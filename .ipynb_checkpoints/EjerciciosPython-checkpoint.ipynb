{
 "cells": [
  {
   "cell_type": "code",
   "execution_count": null,
   "id": "c19d26fb-e370-4447-b51e-a241a26a6353",
   "metadata": {
    "jupyter": {
     "source_hidden": true
    },
    "tags": []
   },
   "outputs": [],
   "source": [
    "#Primer ejercicio: odd or even.\n",
    "num = input(\"Introduce un número: \")\n",
    "num = int(num)\n",
    "\n",
    "if num == 0:\n",
    "    print (\"Este número es par.\")\n",
    "elif num%2 == 0:\n",
    "    print (\"Este numero es par\")\n",
    "else:\n",
    "    print (\"Este numero es impar\")"
   ]
  },
  {
   "cell_type": "code",
   "execution_count": null,
   "id": "66219c2e-3d36-4b19-ab35-165c1f399ba9",
   "metadata": {
    "jupyter": {
     "source_hidden": true
    },
    "tags": []
   },
   "outputs": [],
   "source": [
    "#Segundo ejercicio: Mad libs game\n",
    "\n",
    "name = input(\"Digita tu nombre: \")\n",
    "celebrity = input(\"Digite el nombre de la celebridad: \")\n",
    "\n",
    "print(\"Mi nombre es \" + name + \" y amo a \" + celebrity)"
   ]
  },
  {
   "cell_type": "code",
   "execution_count": null,
   "id": "38e36b5a-54c1-4da1-b1fa-8419180407f8",
   "metadata": {
    "jupyter": {
     "source_hidden": true
    },
    "tags": []
   },
   "outputs": [],
   "source": [
    "#Tercer ejercicio: Word Count.\n",
    "palabras = len(input(\"Cuentame, que tal tu dia usuario navegador de internet.\").split())\n",
    "\n",
    "print(\"Genial, me acabas de contar tu dia en \" + str(palabras) + \" palabras.\")"
   ]
  },
  {
   "cell_type": "code",
   "execution_count": null,
   "id": "285eb4c6-c797-437c-9f52-f42fc75e8bd1",
   "metadata": {
    "jupyter": {
     "source_hidden": true
    },
    "tags": []
   },
   "outputs": [],
   "source": [
    "#Cuarto ejercicio: Biography info.\n",
    "def validacion():\n",
    "    while True:\n",
    "        name = input(\"Porfavor, digite su nombre: \")\n",
    "        age = input(\"Ahora, digite un numero\")\n",
    "        try:\n",
    "            name = str(name)\n",
    "            age = int(age)\n",
    "            return name, age\n",
    "        except ValueError:    \n",
    "            print(\"Digite un nombre valido.\")\n",
    "            print(\"Digite una edad valida.\")\n",
    "        \n",
    "validacion()\n",
    "    "
   ]
  },
  {
   "cell_type": "code",
   "execution_count": null,
   "id": "7a129eb4-8de7-46eb-a9d3-d04ac83170a1",
   "metadata": {
    "jupyter": {
     "source_hidden": true
    },
    "tags": []
   },
   "outputs": [],
   "source": [
    "#Quinto ejercicio: Whats my Acronym\n",
    "texto = str(input(\"Digite un texto para conocer su acronimo: \"))\n",
    "acronimo = texto.split()\n",
    "acry = \" \"\n",
    "\n",
    "for i in text:\n",
    "    acry = acry + str(i[0]).upper()\n",
    "    \n",
    "print(acry)"
   ]
  },
  {
   "cell_type": "code",
   "execution_count": null,
   "id": "baf817f8-bf47-4b8a-bd86-6adfe996b119",
   "metadata": {
    "jupyter": {
     "source_hidden": true
    },
    "tags": []
   },
   "outputs": [],
   "source": [
    "#Sexto ejercicio: Rock, Paper, Scissors\n",
    "import random\n",
    "\n",
    "aleatorio = random.randrange(0, 3)\n",
    "eligePc = \"\"\n",
    "print(\"1 -Piedra\")\n",
    "print(\"2 - Papel\")\n",
    "print(\"3 - Tijera\")\n",
    "opcion = int(input(\"Digita el numero para elegir la opcion: \"))\n",
    "\n",
    "if opcion == 1:\n",
    "    eligeUsuario = \"Piedra\"\n",
    "elif opcion == 2:\n",
    "    eligeUsuario = \"Papel\"\n",
    "elif opcion == 3:\n",
    "    eligeUsuario = \"Tijera\"\n",
    "print(\"\\nTu elegiste: \", eligeUsuario)\n",
    "\n",
    "if aleatorio == 0:\n",
    "    eligePc = \"Piedra\"\n",
    "elif aleatorio == 1:\n",
    "    eligePc = \"Papel\"\n",
    "elif aleatorio == 2:\n",
    "    eligePc = \"Tijera\"\n",
    "print(\"La computadora eligio: \", eligePc + \"\\n\")\n",
    "\n",
    "if eligePc == \"Piedra\" and eligeUsuario == \"Papel\":\n",
    "    print(\"Ganaste, papel envuelve piedra\")\n",
    "elif eligePc == \"Papel\" and eligeUsuario == \"Tijera\":\n",
    "    print(\"Ganaste, Tijera corta papel\")\n",
    "elif eligePc == \"Tijera\" and eligeUsuario == \"Piedra\":\n",
    "    print(\"Ganaste, Piedra tapa tijera\")\n",
    "if eligePc == \"Papel\" and eligeUsuario == \"Piedra\":\n",
    "    print(\"Perdiste, papel envuelve piedra\")\n",
    "elif eligePc == \"Tijera\" and eligeUsuario == \"Papel\":\n",
    "    print(\"Perdiste, tijera corta papel\")\n",
    "elif eligePc == \"Piedra\" and eligeUsuario == \"Tijera\":\n",
    "    print(\"Perdiste, piedra tapa tijera\")\n",
    "elif eligePc == eligeUsuario:\n",
    "    print(\"Quedaron empate\")"
   ]
  },
  {
   "cell_type": "code",
   "execution_count": null,
   "id": "d607a60c-fbcb-48ba-9e75-71cfce25ab58",
   "metadata": {
    "jupyter": {
     "source_hidden": true
    },
    "tags": []
   },
   "outputs": [],
   "source": [
    "#Septimo ejercicio: Guess the number:\n",
    "import random\n",
    "num_random = random.randrange(1, 50)\n",
    "opc = 1\n",
    "\n",
    "\n",
    "while opc == 1:\n",
    "    \n",
    "    num = int(input(\"Digite un numero entre el 1 al 50 para adivinar el random: \"))\n",
    "   \n",
    "    print(num_random)\n",
    "    if num == num_random:\n",
    "        print(\"Felicidades, usted a adivinado el numero random.\")\n",
    "        print(\"\\nEl numero random fue: \" + str(num_random))\n",
    "        opc = \"2\"\n",
    "    else:\n",
    "        print(\"Siga intentando.\")\n",
    "        opc = int(input(\"Desea seguir adivinando el numero: \\n1 - Si\\n2 - No\"))\n",
    "        \n",
    "    if opc == 2:\n",
    "        print(\"El numero random era: \" + str(num_random))"
   ]
  },
  {
   "cell_type": "code",
   "execution_count": null,
   "id": "692125b5-e05b-4a31-bafb-2e5d6bc39c3d",
   "metadata": {
    "jupyter": {
     "source_hidden": true
    },
    "tags": []
   },
   "outputs": [],
   "source": [
    "#Octavo ejercicio: Is a palindrome\n",
    "print(\"Bienvenido a mi programa, acontinuacion se le solicitara que digite cinco palabras.\")\n",
    "w1 = input(\"\\nDigite la primera palabra: \")\n",
    "w2 = input(\"\\nDigite la segunda palabra: \")\n",
    "w3 = input(\"\\nDigite la tercera palabra: \")\n",
    "w4 = input(\"\\nDigite la cuarta palabra: \")\n",
    "w5 = input(\"Digite la quinta y ultima palabra: \")\n",
    "\n",
    "if w1 == w1[::-1]:\n",
    "    print(\"\\n\" + w1 + \" es un palindrome.\")\n",
    "else:\n",
    "    print(w1 + \" no es un palindrome, cabezon.\")\n",
    "if w2 == w2[::-1]:\n",
    "    print(w2 + \" es un palindrome.\")\n",
    "else:\n",
    "    print(w2 + \" no es un palindrome, cabezon.\")\n",
    "if w3 == w3[::-1]:\n",
    "    print(w3 + \" es un palindrome.\")\n",
    "else:\n",
    "    print(w3 + \" no es un palindrome, cabezon.\")\n",
    "if w4 == w4[::-1]:\n",
    "    print(w4 + \" es un palindrome.\")\n",
    "else:\n",
    "    print(w4 + \" no es un palindrome, cabezon.\")\n",
    "if w5 == w5[::-1]:\n",
    "    print(w5 + \" es un palindrome.\")\n",
    "else:\n",
    "    print(w5 + \" no es un palindrome, cabezon.\")"
   ]
  },
  {
   "cell_type": "code",
   "execution_count": null,
   "id": "16e6b75a-f2c2-4db5-b611-0b30c95036b7",
   "metadata": {
    "jupyter": {
     "source_hidden": true
    },
    "tags": []
   },
   "outputs": [],
   "source": [
    "#Noveno ejercicio: Calculate the tip.\n",
    "\n",
    "total_bill = float(input(\"De cuanto es el pago total? \"))\n",
    "\n",
    "tip18 = total_bill * .18\n",
    "tip20 = total_bill * .20\n",
    "tip25 = total_bill * .25\n",
    "\n",
    "print(\"\\nLa propina del 18% es de: \" + str(tip18) + \"\\nLo cual sumaria un total de: \" + str(total_bill+tip18))\n",
    "print(\"\\nLa propina del 20% es de: \" + str(tip20) + \"\\nLo cual sumaria un total de: \" + str(total_bill+tip20))\n",
    "print(\"\\nLa propina del 25% es de: \" + str(tip25) + \"\\nLo cual sumaria un total de: \" + str(total_bill+tip25))\n",
    "\n",
    "persons = float(input(\"\\nSi me permite preguntar, cuantas personas son? Esto con el fin de dividir el pago de las propinas.\"))\n",
    "\n",
    "tip18_persons = tip18 / persons\n",
    "tip20_persons = tip20 / persons\n",
    "tip25_persons = tip25 / persons\n",
    "\n",
    "print(\"\\nPara la propina del 18%, a cada persona le tocaria pagar \" + str(tip18_persons) + \" pesos.\")\n",
    "print(\"\\nPara la propina del 20%, a cada persona le tocaria pagar \" + str(tip20_persons) + \" pesos.\")\n",
    "print(\"\\nPara la propina del 25%, a cada persona le tocaria pagar \" + str(tip25_persons) + \" pesos.\")"
   ]
  },
  {
   "cell_type": "code",
   "execution_count": null,
   "id": "1f9aefe8-b2ad-455b-a30b-c609dfb281e3",
   "metadata": {
    "jupyter": {
     "source_hidden": true
    },
    "tags": []
   },
   "outputs": [],
   "source": [
    "#Decimo ejercicio: Email slicer\n",
    "\n",
    "lista_popular = [\"gmail\", \"outlook\", \"aol\", \"yahoo\", \"yandex\"]\n",
    "\n",
    "email = input(\"Porfavor, digite su correo electronico: \")\n",
    "\n",
    "email_domain = email.index('@')\n",
    "email_domain_dot = email.index('.')\n",
    "realdomain = email[email_domain+1:email_domain_dot]\n",
    "\n",
    "if realdomain in lista_popular:\n",
    "    print(\"Wow, veo que usted esta registrado con \" + realdomain.upper())\n",
    "else:\n",
    "    print(\"Wow, veo que usted tiene su propio dominio personalizado con \" + realdomain.upper())"
   ]
  },
  {
   "cell_type": "code",
   "execution_count": null,
   "id": "6d74a25f-5dc4-4542-a26f-deb4cc960344",
   "metadata": {
    "jupyter": {
     "source_hidden": true
    },
    "tags": []
   },
   "outputs": [],
   "source": [
    "#Undecimo ejercicio: Lyrics generator\n",
    "main_opc = 1\n",
    "num = int(input(\"Hola, elige un numero para conocer la letra de esa cancion: \\n1. Deftones - Digital Bath\\n2. Deftones - Change\\n3. Deftones - My Own Summer\\n4. Deftones - Rosemary\\n5. Deftones - Sextape\\n6. Rammstein - Sonne\\n7. Rammstein - Engel\\n8. Rammstein Du Hast\\n9. Audioslave - Like a stone\\n10. Audioslave - I am the highway\" + \"\\n\"))\n",
    "\n",
    "match num:\n",
    "    case 1:\n",
    "        print(\"\\n>>>Deftones - Digital Bath\\n \\nYou move like I want to\\nTo see like your eyes do\\nWe are downstairs\\nWhere no one can see\\nNew life break away\\nTonight I feel like more\\nTonight I\\nYou make the water warm\\nYou taste foreign\\nAnd I know you can see\\nThe cord break away\\n'Cause tonight I feel like more\\nTonight I feel like more\\nFeel like more\\nTonight\\nYou breathed\\nThen you stopped\\nI breathed then dried you off\\nAnd tonight\\nI feel\\nFeel like more\\nOh tonight I feel like\\nFeel like more\\nTonight I feel like more\\nFeel like more\\nTonight\")\n",
    "    case 2:\n",
    "        print(\"\\n>>>Deftones - Change\\n \\nI watched you change\\nInto a fly\\nI looked away\\nYou were on fire\\nAnd I watched a change in you\\nIt's like you never had wings\\nNow you feel so alive\\nI've watched you change\\nI took you home\\nSet you on the glass\\nI pulled off your wings\\nThen I laughed\\nAnd I watched a change in you\\nIt's like you never had wings\\nNow you feel so alive\\nI've watched you change\\nIt's like you never had wings\\nI look at the cross\\nThen I look away\\nGive you the gun\\nBlow me away\\nAnd I watched a change in you\\nIt's like you never had wings\\nNow you feel so alive\\nI've watched you change\\nNow you feel alive\\nYou feel alive\\nYou feel alive\\nI've watched you change\\nIt's like you never had wings\\nYou've changed\\nYou've changed\\nYou've changed\\nInto a fly\")\n",
    "    case 3:\n",
    "        print(\"\\n>>>Deftones - My Own Summer\\n \\nHey you, big star\\nTell me when it's over\\n(Cloud)\\nHey you, big mood\\nGuide me to shelter\\n'Cause I'm through when the two\\nHits the six and it's summer\\n(Cloud)\\n(Come) Shove it, shove it, shove it\\n(Shove) Shove it, shove it, shove it\\n(The sun) Shove it, shove it, shove it\\n(Aside) Shove it aside\\nI think God is moving its tongue\\nThere's no crowds in the street and no sun\\nIn my own summer\\nThe shade is a tool, a device, a savior\\nSee, I try and look up to the sky\\nBut my eyes burn\\n(Cloud)\\n(Come) Shove it, shove it, shove it\\n(Shove) Shove it, shove it, shove it\\n(The sun) Shove it, shove it, shove it\\n(Aside) Shove it aside\\n(Come) Shove it, shove it, shove it\\n(Shove) Shove it, shove it, shove it\\n(The sun) Shove it, shove it, shove it\\n(Aside) Shove it aside\\nI think God is moving its tongue\\nThere's no crowd in the streets and no sun\\nIn my own summer\\n(Come) Shove it, shove it, shove it\\n(Shove) Shove it, shove it, shove it\\n(The sun) Shove it, shove it, shove it\\n(Aside) Shove it aside\")\n",
    "    case 4:\n",
    "        print(\"\\n>>>Deftones - Rosemary\\n \\nThere's no sound\\nBut the engines drone\\nOur minds set free\\nTo roam\\nTime (Shift)\\nWe discover the entry\\nTo other planes\\nOur minds bend\\nAnd our fingers fold\\nEntwined, we dream\\nUnknown\\nTime (Shift)\\nWe discover the entry\\nTo other planes\\nStay with me\\nAs we cross the empty skies\\nCome sail with me\\nWe slow down\\nAs the engines stall\\nOur eyes catch sync\\nExplode\\nTime (Shift)\\nWe discover the entry\\nTo other planes\\nTime (Shift)\\nAs we collide with the energy\\nIn other ways\\nStay with me\\nAs we cross the empty skies\\nCome sail with me\\nWe play in dreams\\nAs we cross through space and time\\nJust stay with me\")\n",
    "    case 5:\n",
    "        print(\"\\n>>>Deftones - Sextape\\n \\nFloating under water ever changing picture\\nHours out from land\\nIn tune with all our dreams\\nThe ocean takes me in to watch you shake it\\nWatch you wave your powers\\nTempt with hours of pleasure\\nTake me one more time\\nTake me one more wave\\nTake me for one last ride\\nI'm out of my head\\nTonight, tonight\\nTonight, tonight...\\nThe sound of the waves collide\\nThe sound of the waves collide\\nThe sound of the waves collide\\nTonight, we ride\\nCruising through the city after hours\\nWith me fusing all our powers\\nHere's to all our dreams\\nTake me one more time\\nTake me one more wave\\nTake me for one last ride\\nI'm out of my head\\nTonight, tonight\\nTonight, tonight\\nThe sound of the waves collide\\nThe sound of the waves collide\\nThe sound of the waves collide\\nTonight, we ride\")\n",
    "    case 6:\n",
    "        print(\"\\n>>>Rammstein - Sonne\\n \\nEins, zwei, drei, vier, fünf, sechs, sieben, acht, neun, aus\\nAlle warten auf das Licht\\nFürchtet euch, fürchtet euch nicht\\nDie Sonne scheint mir aus den Augen\\nSie wird heut' Nacht nicht untergehen\\nUnd die Welt zählt laut bis zehn\\nEins\\nHier kommt die Sonne\\nZwei\\nHier kommt die Sonne\\nDrei\\nSie ist der hellste Stern von allen\\nVier\\nHier kommt die Sonne\\nDie Sonne scheint mir aus den Händen\\nKann verbrennen, kann euch blenden\\nWenn sie aus den Fäusten bricht\\nLegt sich heiß auf das Gesicht\\nSie wird heut' Nacht nicht untergehen\\nUnd die Welt zählt laut bis zehn\\nEins\\nHier kommt die Sonne\\nZwei\\nHier kommt die Sonne\\nDrei\\nSie ist der hellste Stern von allen\\nVier\\nHier kommt die Sonne\\nFünf\\nHier kommt die Sonne\\nSechs\\nHier kommt die Sonne\\nSieben\\nSie ist der hellste Stern von allen\\nAcht, neun\\nHier kommt die Sonne\\nDie Sonne scheint mir aus den Händen\\nKann verbrennen, kann dich blenden\\nWenn sie aus den Fäusten bricht\\nLegt sich heiß auf dein Gesicht\\nLegt sich schmerzend auf die Brust\\nDas Gleichgewicht wird zum Verlust\\nLässt sich hart zu Boden gehen\\nUnd die Welt zählt laut bis zehn\\nEins\\nHier kommt die Sonne\\nZwei\\nHier kommt die Sonne\\nDrei\\nSie ist der hellste Stern von allen\\nVier\\nUnd wird nie vom Himmel fallen\\nFünf\\nHier kommt die Sonne\\nSechs\\nHier kommt die Sonne\\nSieben\\nSie ist der hellste Stern von allen\\nAcht, neun\\nHier kommt die Sonne\")\n",
    "    case 7:\n",
    "        print(\"\\n>>>Rammstein - Engel\\n \\nWer zu Lebzeit gut auf Erden\\nwird nach dem Tod ein Engel werden\\nden Blick gen Himmel fragst du dann\\nwarum man sie nicht sehen kann\\nErst wenn die Wolken schlafengehn\\nkann man uns am Himmel sehn\\nwir haben Angst und sind allein\\nGott weiss ich will kein Engel sein\\nSie leben hinterm Sonnenschein\\ngetrennt von uns unendlich weit\\nsie mussen sich an Sterne krallen (ganz fest)\\ndamit sie nicht vom Himmel fallen\\nErst wenn die Wolken schlafengehn\\nkann man uns am Himmel sehn\\nwir haben Angst und sind allein\\nGott weiss ich will kein Engel sein\\nErst wenn die Wolken schlafengehn\\nkann man uns am Himmel sehn\\nwir haben Angst und sind allein\\nGott weiss ich will kein Engel sein\")\n",
    "    case 8:\n",
    "        print(\"\\n>>>Rammstein - Du Hast\\n \\nDu, du hast, du hast mich\\nDu, du hast, du hast mich\\nDu, du hast, du hast mich\\nDu, du hast, du hast mich\\nDu, du hast, du hast mich\\nDu hast mich\\nDu hast mich gefragt\\nDu hast mich gefragt\\nDu hast mich gefragt\\nUnd ich hab' nichts gesagt\\nWillst du bis der Tod euch scheidet treu ihr sein für alle Tage?\\nNein, nein\\nWillst du bis der Tod euch scheidet treu ihr sein für alle Tage?\\nNein, nein\\nDu, du hast, du hast mich\\nDu, du hast, du hast mich\\nDu, du hast, du hast mich\\nDu hast mich\\nDu hast mich gefragt\\nDu hast mich gefragt\\nDu hast mich gefragt\\nUnd ich hab' nichts gesagt\\nWillst du bis der Tod euch scheidet treu ihr sein für alle Tage?\\nNein, nein\\nWillst du bis zum Tod, der scheid', sie lieben auch in schlechten Tagen?\\nNein, nein\\nWillst du bis der Tod euch scheidet treu ihr sein?\\nNein, nein\")\n",
    "    case 9:\n",
    "        print(\"\\n>>>Audioslave - Like a stone\\n \\nOn a cobweb afternoon in a room full of emptiness\\nBy a freeway, I confess I was lost in the pages\\nOf a book full of death, reading how we'll die alone\\nAnd if we're good, we'll lay to rest anywhere we want to go\\nIn your house I long to be\\nRoom by room patiently\\nI'll wait for you there like a stone\\nI'll wait for you there alone\\nAnd on my deathbed I will pray to the gods and the angels\\nLike a pagan to anyone who will take me to heaven\\nTo a place I recall, I was there so long ago\\nThe sky was bruised, the wine was bled, and there you led me on\\nIn your house I long to be\\nRoom by room, patiently\\nI'll wait for you there like a stone\\nI'll wait for you there alone, alone\\nAnd on I read until the day was gone\\nAnd I sat in regret of all the things I've done\\nFor all that I've blessed, and all that I've wronged\\nIn dreams until my death I will wander on\\nIn your house I long to be\\nRoom by room, patiently\\nI'll wait for you there like a stone\\nI'll wait for you there alone, alone\")\n",
    "    case 10:\n",
    "        print(\"\\n>>>Audioslave - I am the highway\\n \\nPearls and swine bereft of me.\\nLong and weary my road has been.\\nI was lost in the cities, alone in the hills.\\nNo sorrow or pity for leaving, I feel, yeah.\\nI am not your rolling wheels – I am the highway.\\nI am not your carpet ride – I am the sky.\\nFriends and liars don't wait for me,\\n'Cause I'll get on all by myself.\\nI put millions of miles under my heels;\\nAnd still too close to you, I feel, yeah.\\nI am not your rolling wheels – I am the highway.\\nI am not your carpet ride – I am the sky.\\nI am not your blowing wind – I am the lightning.\\nI am not your autumn moon – I am the night… the night.\\nYeah!\\nI am not your rolling wheels – I am the highway.\\nI am not your carpet ride – I am the sky.\\nWell,\\nI am not your blowing wind – I am the lightning.\\nI am not your autumn moon – I am the night... the night.\\nYeah, yeah, yeah, yeah.\")\n",
    "\n",
    "print(\"\\nExcelente eleccion.\")\n",
    "\n",
    "while main_opc == 1:\n",
    "    opc = int(input(\"\\nLe gustaria poner una cancion de un artista en especifico? Tenemos los siguientes:\\n1 - Deftones.\\n2 - Rammstein.\\n3 - Audioslave\"))\n",
    "\n",
    "    if opc == 1:\n",
    "        opc1 = int(input(\"\\nQue cancion de Deftones le gustaria poner? Tenemos las siguientes:\\n1. Digital Bath.\\n2. Change\\n3. My Own Summer.\\n4. Rosemary.\\n5. Sextape\"))\n",
    "        match opc1:\n",
    "                case 1:\n",
    "                    print(\"\\n>>>Deftones - Digital Bath\\n \\nYou move like I want to\\nTo see like your eyes do\\nWe are downstairs\\nWhere no one can see\\nNew life break away\\nTonight I feel like more\\nTonight I\\nYou make the water warm\\nYou taste foreign\\nAnd I know you can see\\nThe cord break away\\n'Cause tonight I feel like more\\nTonight I feel like more\\nFeel like more\\nTonight\\nYou breathed\\nThen you stopped\\nI breathed then dried you off\\nAnd tonight\\nI feel\\nFeel like more\\nOh tonight I feel like\\nFeel like more\\nTonight I feel like more\\nFeel like more\\nTonight\")\n",
    "                case 2:\n",
    "                    print(\"\\n>>>Deftones - Change\\n \\nI watched you change\\nInto a fly\\nI looked away\\nYou were on fire\\nAnd I watched a change in you\\nIt's like you never had wings\\nNow you feel so alive\\nI've watched you change\\nI took you home\\nSet you on the glass\\nI pulled off your wings\\nThen I laughed\\nAnd I watched a change in you\\nIt's like you never had wings\\nNow you feel so alive\\nI've watched you change\\nIt's like you never had wings\\nI look at the cross\\nThen I look away\\nGive you the gun\\nBlow me away\\nAnd I watched a change in you\\nIt's like you never had wings\\nNow you feel so alive\\nI've watched you change\\nNow you feel alive\\nYou feel alive\\nYou feel alive\\nI've watched you change\\nIt's like you never had wings\\nYou've changed\\nYou've changed\\nYou've changed\\nInto a fly\")\n",
    "                case 3:\n",
    "                    print(\"\\n>>>Deftones - My Own Summer\\n \\nHey you, big star\\nTell me when it's over\\n(Cloud)\\nHey you, big mood\\nGuide me to shelter\\n'Cause I'm through when the two\\nHits the six and it's summer\\n(Cloud)\\n(Come) Shove it, shove it, shove it\\n(Shove) Shove it, shove it, shove it\\n(The sun) Shove it, shove it, shove it\\n(Aside) Shove it aside\\nI think God is moving its tongue\\nThere's no crowds in the street and no sun\\nIn my own summer\\nThe shade is a tool, a device, a savior\\nSee, I try and look up to the sky\\nBut my eyes burn\\n(Cloud)\\n(Come) Shove it, shove it, shove it\\n(Shove) Shove it, shove it, shove it\\n(The sun) Shove it, shove it, shove it\\n(Aside) Shove it aside\\n(Come) Shove it, shove it, shove it\\n(Shove) Shove it, shove it, shove it\\n(The sun) Shove it, shove it, shove it\\n(Aside) Shove it aside\\nI think God is moving its tongue\\nThere's no crowd in the streets and no sun\\nIn my own summer\\n(Come) Shove it, shove it, shove it\\n(Shove) Shove it, shove it, shove it\\n(The sun) Shove it, shove it, shove it\\n(Aside) Shove it aside\")\n",
    "                case 4:\n",
    "                    print(\"\\n>>>Deftones - Rosemary\\n \\nThere's no sound\\nBut the engines drone\\nOur minds set free\\nTo roam\\nTime (Shift)\\nWe discover the entry\\nTo other planes\\nOur minds bend\\nAnd our fingers fold\\nEntwined, we dream\\nUnknown\\nTime (Shift)\\nWe discover the entry\\nTo other planes\\nStay with me\\nAs we cross the empty skies\\nCome sail with me\\nWe slow down\\nAs the engines stall\\nOur eyes catch sync\\nExplode\\nTime (Shift)\\nWe discover the entry\\nTo other planes\\nTime (Shift)\\nAs we collide with the energy\\nIn other ways\\nStay with me\\nAs we cross the empty skies\\nCome sail with me\\nWe play in dreams\\nAs we cross through space and time\\nJust stay with me\")\n",
    "                case 5:\n",
    "                    print(\"\\n>>>Deftones - Sextape\\n \\nFloating under water ever changing picture\\nHours out from land\\nIn tune with all our dreams\\nThe ocean takes me in to watch you shake it\\nWatch you wave your powers\\nTempt with hours of pleasure\\nTake me one more time\\nTake me one more wave\\nTake me for one last ride\\nI'm out of my head\\nTonight, tonight\\nTonight, tonight...\\nThe sound of the waves collide\\nThe sound of the waves collide\\nThe sound of the waves collide\\nTonight, we ride\\nCruising through the city after hours\\nWith me fusing all our powers\\nHere's to all our dreams\\nTake me one more time\\nTake me one more wave\\nTake me for one last ride\\nI'm out of my head\\nTonight, tonight\\nTonight, tonight\\nThe sound of the waves collide\\nThe sound of the waves collide\\nThe sound of the waves collide\\nTonight, we ride\")\n",
    "    if opc == 2:\n",
    "        opc2 = int(input(\"\\nQue cancion de Rammstein le gustaria poner? Tenemos las siguientes:\\n1. Sonne.\\n2. Engel.\\n3. Du Hast\"))\n",
    "        match opc2:\n",
    "                case 1:\n",
    "                    print(\"\\n>>>Rammstein - Sonne\\n \\nEins, zwei, drei, vier, fünf, sechs, sieben, acht, neun, aus\\nAlle warten auf das Licht\\nFürchtet euch, fürchtet euch nicht\\nDie Sonne scheint mir aus den Augen\\nSie wird heut' Nacht nicht untergehen\\nUnd die Welt zählt laut bis zehn\\nEins\\nHier kommt die Sonne\\nZwei\\nHier kommt die Sonne\\nDrei\\nSie ist der hellste Stern von allen\\nVier\\nHier kommt die Sonne\\nDie Sonne scheint mir aus den Händen\\nKann verbrennen, kann euch blenden\\nWenn sie aus den Fäusten bricht\\nLegt sich heiß auf das Gesicht\\nSie wird heut' Nacht nicht untergehen\\nUnd die Welt zählt laut bis zehn\\nEins\\nHier kommt die Sonne\\nZwei\\nHier kommt die Sonne\\nDrei\\nSie ist der hellste Stern von allen\\nVier\\nHier kommt die Sonne\\nFünf\\nHier kommt die Sonne\\nSechs\\nHier kommt die Sonne\\nSieben\\nSie ist der hellste Stern von allen\\nAcht, neun\\nHier kommt die Sonne\\nDie Sonne scheint mir aus den Händen\\nKann verbrennen, kann dich blenden\\nWenn sie aus den Fäusten bricht\\nLegt sich heiß auf dein Gesicht\\nLegt sich schmerzend auf die Brust\\nDas Gleichgewicht wird zum Verlust\\nLässt sich hart zu Boden gehen\\nUnd die Welt zählt laut bis zehn\\nEins\\nHier kommt die Sonne\\nZwei\\nHier kommt die Sonne\\nDrei\\nSie ist der hellste Stern von allen\\nVier\\nUnd wird nie vom Himmel fallen\\nFünf\\nHier kommt die Sonne\\nSechs\\nHier kommt die Sonne\\nSieben\\nSie ist der hellste Stern von allen\\nAcht, neun\\nHier kommt die Sonne\")\n",
    "                case 2:\n",
    "                    print(\"\\n>>>Rammstein - Engel\\n \\nWer zu Lebzeit gut auf Erden\\nwird nach dem Tod ein Engel werden\\nden Blick gen Himmel fragst du dann\\nwarum man sie nicht sehen kann\\nErst wenn die Wolken schlafengehn\\nkann man uns am Himmel sehn\\nwir haben Angst und sind allein\\nGott weiss ich will kein Engel sein\\nSie leben hinterm Sonnenschein\\ngetrennt von uns unendlich weit\\nsie mussen sich an Sterne krallen (ganz fest)\\ndamit sie nicht vom Himmel fallen\\nErst wenn die Wolken schlafengehn\\nkann man uns am Himmel sehn\\nwir haben Angst und sind allein\\nGott weiss ich will kein Engel sein\\nErst wenn die Wolken schlafengehn\\nkann man uns am Himmel sehn\\nwir haben Angst und sind allein\\nGott weiss ich will kein Engel sein\")\n",
    "                case 3:\n",
    "                    print(\"\\n>>>Rammstein - Du Hast\\n \\nDu, du hast, du hast mich\\nDu, du hast, du hast mich\\nDu, du hast, du hast mich\\nDu, du hast, du hast mich\\nDu, du hast, du hast mich\\nDu hast mich\\nDu hast mich gefragt\\nDu hast mich gefragt\\nDu hast mich gefragt\\nUnd ich hab' nichts gesagt\\nWillst du bis der Tod euch scheidet treu ihr sein für alle Tage?\\nNein, nein\\nWillst du bis der Tod euch scheidet treu ihr sein für alle Tage?\\nNein, nein\\nDu, du hast, du hast mich\\nDu, du hast, du hast mich\\nDu, du hast, du hast mich\\nDu hast mich\\nDu hast mich gefragt\\nDu hast mich gefragt\\nDu hast mich gefragt\\nUnd ich hab' nichts gesagt\\nWillst du bis der Tod euch scheidet treu ihr sein für alle Tage?\\nNein, nein\\nWillst du bis zum Tod, der scheid', sie lieben auch in schlechten Tagen?\\nNein, nein\\nWillst du bis der Tod euch scheidet treu ihr sein?\\nNein, nein\")\n",
    "    if opc == 3:\n",
    "        opc3 = int(input(\"\\nQue cancion de Audioslave le gustaria poner? Tenemos las siguientes:\\n1. Like a stone.\\n2. I am the highway.\"))\n",
    "        match num:\n",
    "                case 1:\n",
    "                    print(\"\\n>>>Audioslave - Like a stone\\n \\nOn a cobweb afternoon in a room full of emptiness\\nBy a freeway, I confess I was lost in the pages\\nOf a book full of death, reading how we'll die alone\\nAnd if we're good, we'll lay to rest anywhere we want to go\\nIn your house I long to be\\nRoom by room patiently\\nI'll wait for you there like a stone\\nI'll wait for you there alone\\nAnd on my deathbed I will pray to the gods and the angels\\nLike a pagan to anyone who will take me to heaven\\nTo a place I recall, I was there so long ago\\nThe sky was bruised, the wine was bled, and there you led me on\\nIn your house I long to be\\nRoom by room, patiently\\nI'll wait for you there like a stone\\nI'll wait for you there alone, alone\\nAnd on I read until the day was gone\\nAnd I sat in regret of all the things I've done\\nFor all that I've blessed, and all that I've wronged\\nIn dreams until my death I will wander on\\nIn your house I long to be\\nRoom by room, patiently\\nI'll wait for you there like a stone\\nI'll wait for you there alone, alone\")\n",
    "                case 2:\n",
    "                    print(\"\\n>>>Audioslave - I am the highway\\n \\nPearls and swine bereft of me.\\nLong and weary my road has been.\\nI was lost in the cities, alone in the hills.\\nNo sorrow or pity for leaving, I feel, yeah.\\nI am not your rolling wheels – I am the highway.\\nI am not your carpet ride – I am the sky.\\nFriends and liars don't wait for me,\\n'Cause I'll get on all by myself.\\nI put millions of miles under my heels;\\nAnd still too close to you, I feel, yeah.\\nI am not your rolling wheels – I am the highway.\\nI am not your carpet ride – I am the sky.\\nI am not your blowing wind – I am the lightning.\\nI am not your autumn moon – I am the night… the night.\\nYeah!\\nI am not your rolling wheels – I am the highway.\\nI am not your carpet ride – I am the sky.\\nWell,\\nI am not your blowing wind – I am the lightning.\\nI am not your autumn moon – I am the night... the night.\\nYeah, yeah, yeah, yeah.\")\n",
    "\n",
    "    main_opc = int(input(\"\\nLe gustaria poner otra cancion? 1 - Si, 2 - No\"))\n",
    "\n",
    "if main_opc == 2:\n",
    "    print(\"\\nGracias por usar mi programa\")"
   ]
  }
 ],
 "metadata": {
  "kernelspec": {
   "display_name": "Python 3 (ipykernel)",
   "language": "python",
   "name": "python3"
  },
  "language_info": {
   "codemirror_mode": {
    "name": "ipython",
    "version": 3
   },
   "file_extension": ".py",
   "mimetype": "text/x-python",
   "name": "python",
   "nbconvert_exporter": "python",
   "pygments_lexer": "ipython3",
   "version": "3.10.8"
  }
 },
 "nbformat": 4,
 "nbformat_minor": 5
}
